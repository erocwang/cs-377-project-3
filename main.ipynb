{
 "cells": [
  {
   "cell_type": "markdown",
   "metadata": {},
   "source": [
    "The following establishes a connection to Mechanical Turk.   \n",
    "Set the create_hits_in_production variable equal to true to public real tasks "
   ]
  },
  {
   "cell_type": "code",
   "execution_count": 68,
   "metadata": {},
   "outputs": [
    {
     "name": "stdout",
     "output_type": "stream",
     "text": [
      "10000.00\n"
     ]
    }
   ],
   "source": [
    "import boto3 \n",
    "import xmltodict \n",
    "import json \n",
    "\n",
    "create_hits_in_production = False\n",
    "environments = {\n",
    "  \"production\": {\n",
    "    \"endpoint\": \"https://mturk-requester.us-east-1.amazonaws.com\",\n",
    "    \"preview\": \"https://www.mturk.com/mturk/preview\"\n",
    "  },\n",
    "  \"sandbox\": {\n",
    "    \"endpoint\": \n",
    "          \"https://mturk-requester-sandbox.us-east-1.amazonaws.com\",\n",
    "    \"preview\": \"https://workersandbox.mturk.com/mturk/preview\"\n",
    "  },\n",
    "}\n",
    "mturk_environment = environments[\"production\"] if create_hits_in_production else environments[\"sandbox\"]\n",
    "session = boto3.Session(profile_name='mturk')\n",
    "client = session.client(\n",
    "    service_name='mturk',\n",
    "    region_name='us-east-1',\n",
    "    endpoint_url=mturk_environment['endpoint'],\n",
    ")\n",
    "\n",
    "print(client.get_account_balance()['AvailableBalance'])"
   ]
  },
  {
   "cell_type": "markdown",
   "metadata": {},
   "source": [
    "The below cell implements and creates HITs for the non-expert task. "
   ]
  },
  {
   "cell_type": "code",
   "execution_count": 69,
   "metadata": {},
   "outputs": [
    {
     "name": "stdout",
     "output_type": "stream",
     "text": [
      "You can view the HITs here:\n",
      "https://workersandbox.mturk.com/mturk/preview?groupId=3N79SUTLMAAKZH24FD8BK5LGHQJB5M\n"
     ]
    }
   ],
   "source": [
    "images = {\"https://ids.si.edu/ids/deliveryService?max_w=800&id=SAAM-1983.95.99_2\":\"Homeward\",\n",
    "         \"https://ids.si.edu/ids/deliveryService?max_w=800&id=FS-F1898.110_002\":\"Boy Viewing Mount Fuji\",\n",
    "         \"https://ids.si.edu/ids/deliveryService?max_w=800&id=SAAM-1969.129_1\":\"Shimmering Tree Shadows\",\n",
    "         \"https://ids.si.edu/ids/deliveryService?max_w=800&id=SAAM-1967.6.19_1\":\"The Thundershower\",\n",
    "         \"https://ids.si.edu/ids/deliveryService?max_w=800&id=SAAM-1988.53_1\":\"Yliaster\"}\n",
    "\n",
    "html_layout = open('./arteval.html', 'r').read()\n",
    "QUESTION_XML = \"\"\"<HTMLQuestion xmlns=\"http://mechanicalturk.amazonaws.com/AWSMechanicalTurkDataSchemas/2011-11-11/HTMLQuestion.xsd\">\n",
    "        <HTMLContent><![CDATA[{}]]></HTMLContent>\n",
    "        <FrameHeight>650</FrameHeight>\n",
    "        </HTMLQuestion>\"\"\"\n",
    "question_xml = QUESTION_XML.format(html_layout)\n",
    "\n",
    "TaskAttributes = {\n",
    "    'MaxAssignments': 5,           \n",
    "    # How long the task will be available on MTurk (1 hour)     \n",
    "    'LifetimeInSeconds': 60*60,\n",
    "    # How long Workers have to complete each item (10 minutes)\n",
    "    'AssignmentDurationInSeconds': 60*10,\n",
    "    # The reward you will offer Workers for each response\n",
    "    'Reward': '0.05',                     \n",
    "    'Title': 'Test 7',\n",
    "    'Keywords': 'artwork, rating',\n",
    "    'Description': 'Rate the artwork on a scale of 1 to 10.'\n",
    "}\n",
    "\n",
    "results = []\n",
    "hit_type_id = ''\n",
    "for image in images:\n",
    "    response = client.create_hit(\n",
    "        **TaskAttributes,\n",
    "        Question=question_xml.replace('${content}',image)\n",
    "    )\n",
    "    hit_type_id = response['HIT']['HITTypeId']\n",
    "    results.append({\n",
    "        'image': images[image],\n",
    "        'hit_id': response['HIT']['HITId']\n",
    "    })\n",
    "    \n",
    "print(\"You can view the HITs here:\")\n",
    "print(mturk_environment['preview']+\"?groupId={}\".format(hit_type_id))"
   ]
  },
  {
   "cell_type": "code",
   "execution_count": null,
   "metadata": {},
   "outputs": [],
   "source": [
    "for item in results:\n",
    "    \n",
    "    # Get the status of the HIT\n",
    "    hit = client.get_hit(HITId=item['hit_id'])\n",
    "    item['status'] = hit['HIT']['HITStatus']\n",
    "    # Get a list of the Assignments that have been submitted\n",
    "    assignmentsList = client.list_assignments_for_hit(\n",
    "        HITId=item['hit_id'],\n",
    "        AssignmentStatuses=['Submitted', 'Approved'],\n",
    "        MaxResults=10\n",
    "    )\n",
    "    assignments = assignmentsList['Assignments']\n",
    "    item['assignments_submitted_count'] = len(assignments)\n",
    "    answers = []\n",
    "    responses = [] \n",
    "    for assignment in assignments:\n",
    "        # Retreive the attributes for each Assignment\n",
    "        worker_id = assignment['WorkerId']\n",
    "        assignment_id = assignment['AssignmentId']\n",
    "        # Retrieve the value submitted by the Worker from the XML\n",
    "        answer_dict = xmltodict.parse(assignment['Answer'])\n",
    "        # print(answer_dict['QuestionFormAnswers']['Answer'][0]['FreeText']) # text \n",
    "        # print(answer_dict['QuestionFormAnswers']['Answer'][1]['FreeText']) # rating \n",
    "        response = answer_dict['QuestionFormAnswers']['Answer'][0]['FreeText']\n",
    "        responses.append(response)\n",
    "        answer = answer_dict['QuestionFormAnswers']['Answer'][1]['FreeText']\n",
    "        answers.append(int(answer))\n",
    "        \n",
    "        # Approve the Assignment (if it hasn't been already)\n",
    "        if assignment['AssignmentStatus'] == 'Submitted':\n",
    "            client.approve_assignment(\n",
    "                AssignmentId=assignment_id,\n",
    "                OverrideRejection=False\n",
    "            )\n",
    "    \n",
    "    # Add the answers that have been retrieved for this item\n",
    "    item['answers'] = answers\n",
    "    item['responses'] = responses \n",
    "    if len(answers) > 0:\n",
    "        item['avg_answer'] = sum(answers)/len(answers)\n",
    "print(json.dumps(results,indent=2))"
   ]
  },
  {
   "cell_type": "markdown",
   "metadata": {},
   "source": [
    "The below cell implements and creates HITs for the expert task. "
   ]
  },
  {
   "cell_type": "code",
   "execution_count": 73,
   "metadata": {},
   "outputs": [
    {
     "name": "stdout",
     "output_type": "stream",
     "text": [
      "You can view the HITs here:\n",
      "https://workersandbox.mturk.com/mturk/preview?groupId=3N79SUTLMAAKZH24FD8BK5LGHQJB5M\n"
     ]
    }
   ],
   "source": [
    "images = {\"https://ids.si.edu/ids/deliveryService?max_w=800&id=SAAM-1983.95.99_2\":\"Homeward\",\n",
    "         \"https://ids.si.edu/ids/deliveryService?max_w=800&id=FS-F1898.110_002\":\"Boy Viewing Mount Fuji\",\n",
    "         \"https://ids.si.edu/ids/deliveryService?max_w=800&id=SAAM-1969.129_1\":\"Shimmering Tree Shadows\",\n",
    "         \"https://ids.si.edu/ids/deliveryService?max_w=800&id=SAAM-1967.6.19_1\":\"The Thundershower\",\n",
    "         \"https://ids.si.edu/ids/deliveryService?max_w=800&id=SAAM-1988.53_1\":\"Yliaster\"}\n",
    "\n",
    "html_layout = open('./arteval2.html', 'r').read()\n",
    "QUESTION_XML = \"\"\"<HTMLQuestion xmlns=\"http://mechanicalturk.amazonaws.com/AWSMechanicalTurkDataSchemas/2011-11-11/HTMLQuestion.xsd\">\n",
    "        <HTMLContent><![CDATA[{}]]></HTMLContent>\n",
    "        <FrameHeight>650</FrameHeight>\n",
    "        </HTMLQuestion>\"\"\"\n",
    "question_xml = QUESTION_XML.format(html_layout)\n",
    "\n",
    "TaskAttributes = {\n",
    "    'MaxAssignments': 5,           \n",
    "    # How long the task will be available on MTurk (1 hour)     \n",
    "    'LifetimeInSeconds': 60*60,\n",
    "    # How long Workers have to complete each item (10 minutes)\n",
    "    'AssignmentDurationInSeconds': 60*10,\n",
    "    # The reward you will offer Workers for each response\n",
    "    'Reward': '0.05',                     \n",
    "    'Title': 'Test 7',\n",
    "    'Keywords': 'artwork, rating',\n",
    "    'Description': 'Rate the artwork on a scale of 1 to 10.'\n",
    "}\n",
    "\n",
    "# TODO, add descriptions for each picture and replace the text in the html doc with the descriptions \n",
    "\n",
    "results = []\n",
    "hit_type_id = ''\n",
    "for image in images:\n",
    "    response = client.create_hit(\n",
    "        **TaskAttributes,\n",
    "        Question=question_xml.replace('${content}',image)\n",
    "    )\n",
    "    hit_type_id = response['HIT']['HITTypeId']\n",
    "    results.append({\n",
    "        'image': images[image],\n",
    "        'hit_id': response['HIT']['HITId']\n",
    "    })\n",
    "    \n",
    "print(\"You can view the HITs here:\")\n",
    "print(mturk_environment['preview']+\"?groupId={}\".format(hit_type_id))"
   ]
  },
  {
   "cell_type": "code",
   "execution_count": 72,
   "metadata": {},
   "outputs": [
    {
     "name": "stdout",
     "output_type": "stream",
     "text": [
      "[\n",
      "  {\n",
      "    \"image\": \"Homeward\",\n",
      "    \"hit_id\": \"39XCQ6V3L5UV3ECRPUMNO96YNOD65K\",\n",
      "    \"status\": \"Assignable\",\n",
      "    \"assignments_submitted_count\": 1,\n",
      "    \"answers\": [\n",
      "      5\n",
      "    ],\n",
      "    \"avg_answer\": 5.0,\n",
      "    \"responses\": [\n",
      "      \"Select this if you feel extremely negative about the work.Select this if you feel extremely negative about the work.Select this if you feel extremely\"\n",
      "    ]\n",
      "  },\n",
      "  {\n",
      "    \"image\": \"Boy Viewing Mount Fuji\",\n",
      "    \"hit_id\": \"34D9ZRXCZYKXWIM5R3G7XPICXRBASG\",\n",
      "    \"status\": \"Assignable\",\n",
      "    \"assignments_submitted_count\": 0,\n",
      "    \"answers\": [],\n",
      "    \"responses\": []\n",
      "  },\n",
      "  {\n",
      "    \"image\": \"Shimmering Tree Shadows\",\n",
      "    \"hit_id\": \"3W1K7D6QTI7ZG4DBS9ABOTZL2OVZB4\",\n",
      "    \"status\": \"Assignable\",\n",
      "    \"assignments_submitted_count\": 0,\n",
      "    \"answers\": [],\n",
      "    \"responses\": []\n",
      "  },\n",
      "  {\n",
      "    \"image\": \"The Thundershower\",\n",
      "    \"hit_id\": \"32CXT5U15NTZS7LUJARTGZU5S0W8UQ\",\n",
      "    \"status\": \"Assignable\",\n",
      "    \"assignments_submitted_count\": 0,\n",
      "    \"answers\": [],\n",
      "    \"responses\": []\n",
      "  },\n",
      "  {\n",
      "    \"image\": \"Yliaster\",\n",
      "    \"hit_id\": \"3538U0YQ2MKO8SIYC41Y3ILR2RP3FU\",\n",
      "    \"status\": \"Assignable\",\n",
      "    \"assignments_submitted_count\": 0,\n",
      "    \"answers\": [],\n",
      "    \"responses\": []\n",
      "  }\n",
      "]\n"
     ]
    }
   ],
   "source": [
    "for item in results:\n",
    "    \n",
    "    # Get the status of the HIT\n",
    "    hit = client.get_hit(HITId=item['hit_id'])\n",
    "    item['status'] = hit['HIT']['HITStatus']\n",
    "    # Get a list of the Assignments that have been submitted\n",
    "    assignmentsList = client.list_assignments_for_hit(\n",
    "        HITId=item['hit_id'],\n",
    "        AssignmentStatuses=['Submitted', 'Approved'],\n",
    "        MaxResults=10\n",
    "    )\n",
    "    assignments = assignmentsList['Assignments']\n",
    "    item['assignments_submitted_count'] = len(assignments)\n",
    "    answers = []\n",
    "    responses = [] \n",
    "    for assignment in assignments:\n",
    "        # Retreive the attributes for each Assignment\n",
    "        worker_id = assignment['WorkerId']\n",
    "        assignment_id = assignment['AssignmentId']\n",
    "        # Retrieve the value submitted by the Worker from the XML\n",
    "        answer_dict = xmltodict.parse(assignment['Answer'])\n",
    "        # print(answer_dict['QuestionFormAnswers']['Answer'][0]['FreeText']) # text \n",
    "        # print(answer_dict['QuestionFormAnswers']['Answer'][1]['FreeText']) # rating \n",
    "        response = answer_dict['QuestionFormAnswers']['Answer'][0]['FreeText']\n",
    "        responses.append(response)\n",
    "        answer = answer_dict['QuestionFormAnswers']['Answer'][1]['FreeText']\n",
    "        answers.append(int(answer))\n",
    "        \n",
    "        # Approve the Assignment (if it hasn't been already)\n",
    "        if assignment['AssignmentStatus'] == 'Submitted':\n",
    "            client.approve_assignment(\n",
    "                AssignmentId=assignment_id,\n",
    "                OverrideRejection=False\n",
    "            )\n",
    "    \n",
    "    # Add the answers that have been retrieved for this item\n",
    "    item['answers'] = answers\n",
    "    item['responses'] = responses \n",
    "    if len(answers) > 0:\n",
    "        item['avg_answer'] = sum(answers)/len(answers)\n",
    "print(json.dumps(results,indent=2))"
   ]
  },
  {
   "cell_type": "code",
   "execution_count": null,
   "metadata": {},
   "outputs": [],
   "source": [
    "OrderedDict([('QuestionFormAnswers', OrderedDict([('@xmlns', 'http://mechanicalturk.amazonaws.com/AWSMechanicalTurkDataSchemas/2005-10-01/QuestionFormAnswers.xsd'), ('Answer', [OrderedDict([('QuestionIdentifier', 'description'), ('FreeText', 'asdfasdfasdfsad asdfasdasdf asdfasdfasdfasdfasdfsadfa')]), OrderedDict([('QuestionIdentifier', 'sentiment'), ('FreeText', '4')])])]))])"
   ]
  }
 ],
 "metadata": {
  "kernelspec": {
   "display_name": "Python 3",
   "language": "python",
   "name": "python3"
  },
  "language_info": {
   "codemirror_mode": {
    "name": "ipython",
    "version": 3
   },
   "file_extension": ".py",
   "mimetype": "text/x-python",
   "name": "python",
   "nbconvert_exporter": "python",
   "pygments_lexer": "ipython3",
   "version": "3.8.5"
  },
  "metadata": {
   "interpreter": {
    "hash": "a5f6668854242f63eaad6694bcfe0c8656db53bd9aa963669c2cf3f023a0818b"
   }
  }
 },
 "nbformat": 4,
 "nbformat_minor": 2
}
