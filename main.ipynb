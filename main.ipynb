{
 "cells": [
  {
   "cell_type": "markdown",
   "metadata": {},
   "source": [
    "The following cell establishes a connection to Mechanical Turk.   \n",
    "Set the create_hits_in_production variable equal to true to public real tasks.  \n",
    "Remember to change the AWSCLI credentials to fit whatever account you use. "
   ]
  },
  {
   "cell_type": "code",
   "execution_count": 59,
   "metadata": {},
   "outputs": [],
   "source": [
    "# CREATING CLIENT CONNECTION TO MTURK \n",
    "\n",
    "import boto3 \n",
    "import xmltodict \n",
    "import json \n",
    "\n",
    "create_hits_in_production = False\n",
    "environments = {\n",
    "  \"production\": {\n",
    "    \"endpoint\": \"https://mturk-requester.us-east-1.amazonaws.com\",\n",
    "    \"preview\": \"https://www.mturk.com/mturk/preview\"\n",
    "  },\n",
    "  \"sandbox\": {\n",
    "    \"endpoint\": \n",
    "          \"https://mturk-requester-sandbox.us-east-1.amazonaws.com\",\n",
    "    \"preview\": \"https://workersandbox.mturk.com/mturk/preview\"\n",
    "  },\n",
    "}\n",
    "mturk_environment = environments[\"production\"] if create_hits_in_production else environments[\"sandbox\"]\n",
    "session = boto3.Session(profile_name='mturk')\n",
    "client = session.client(\n",
    "    service_name='mturk',\n",
    "    region_name='us-east-1',\n",
    "    endpoint_url=mturk_environment['endpoint'],\n",
    ")"
   ]
  },
  {
   "cell_type": "markdown",
   "metadata": {},
   "source": [
    "The following cell checks the account balance. "
   ]
  },
  {
   "cell_type": "code",
   "execution_count": 60,
   "metadata": {},
   "outputs": [
    {
     "name": "stdout",
     "output_type": "stream",
     "text": [
      "10000.00\n"
     ]
    }
   ],
   "source": [
    "# CHECKING ACCOUNT BALANCE \n",
    "\n",
    "print(client.get_account_balance()['AvailableBalance'])"
   ]
  },
  {
   "cell_type": "markdown",
   "metadata": {},
   "source": [
    "The following cell outlines the global variables for task creation. "
   ]
  },
  {
   "cell_type": "code",
   "execution_count": 61,
   "metadata": {},
   "outputs": [],
   "source": [
    "# GLOBAL TASK ATTRIBUTES \n",
    "\n",
    "max_assignments = 40 # we want a total of 40 assigments where each assignment contains 5 images to evaluate \n",
    "lifetime = 60*60*24 # the HITs will be up for a total of 24 hours (this value is in seconds)\n",
    "duration = 60*60\n",
    "reward = '0.25'\n",
    "title = 'Provide Your Rating for a Work of Art'\n",
    "keywords = 'artwork, rating'\n",
    "description = 'Rate the artwork on a scale of 1 to 10'"
   ]
  },
  {
   "cell_type": "markdown",
   "metadata": {},
   "source": [
    "The following cell contains the information about the images for the tasks. "
   ]
  },
  {
   "cell_type": "code",
   "execution_count": 62,
   "metadata": {},
   "outputs": [],
   "source": [
    "images = {\n",
    "    \"https://i.imgur.com/POfoxMI.jpeg\":\"Kalina\",\n",
    "    \"https://preview.redd.it/kzqzeaefm1c51.jpg?width=640&crop=smart&auto=webp&s=e030a71738158154534ed15c8fcdc338bffdc0d1\":\"Richers\",\n",
    "    \"https://i.imgur.com/quUHmVg.png\":\"Whiteford\",\n",
    "    \"https://miro.medium.com/max/700/1*N8OLmyNYXgk-eGrc6St7rA.jpeg\":\"Delaroche\",\n",
    "    \"https://upload.wikimedia.org/wikipedia/commons/0/07/CAPPELLA_SISTINA_Ceiling.jpg\":\"Michelangelo\"\n",
    "}\n",
    "\n",
    "descriptions = {\n",
    "    \"https://i.imgur.com/POfoxMI.jpeg\":\"This work of art was painted by Kalina Harden in 2020.  Harden is a 22 year old psychology and economics major at Williams College who enjoys painting in her free time.\",\n",
    "    \"https://preview.redd.it/kzqzeaefm1c51.jpg?width=640&crop=smart&auto=webp&s=e030a71738158154534ed15c8fcdc338bffdc0d1\":\"This work of art was painted by Massimo Richers in 2020.  Richers is a 21 year old professional painter from Victoria, British Columbia.\",\n",
    "    \"https://i.imgur.com/quUHmVg.png\":\"This work of art was painted by Blair Whiteford in 2021.  Whiteford is a professional painter who graduated from Yale School of Art in 2019.  This work now hangs at the Fountainhead Residency in Miami, Florida.\",\n",
    "    \"https://miro.medium.com/max/700/1*N8OLmyNYXgk-eGrc6St7rA.jpeg\":\"This work of art was painted by Paul Delaroche in 1855.  Delaroche was a leading pupil of fellow French painter Antoine-Jean Gros.  This work now hangs in the Louvre, Paris.\",\n",
    "    \"https://upload.wikimedia.org/wikipedia/commons/0/07/CAPPELLA_SISTINA_Ceiling.jpg\":\"This work of art was painted by Michelangelo around 1510.  Michelangelo was an Italian painter during the High Renaissance in Italy.  This work is on the ceiling of the Sistine Chapel in Vatican City.\"\n",
    "}"
   ]
  },
  {
   "cell_type": "markdown",
   "metadata": {},
   "source": [
    "The follwing cell creates HITs for the non-expert task version. "
   ]
  },
  {
   "cell_type": "code",
   "execution_count": 63,
   "metadata": {},
   "outputs": [
    {
     "name": "stdout",
     "output_type": "stream",
     "text": [
      "You can view the HITs here:\n",
      "https://workersandbox.mturk.com/mturk/preview?groupId=3D9187VUCT9B746PMO80E4H9BXYUIY\n"
     ]
    }
   ],
   "source": [
    "html_layout = open('./arteval.html', 'r').read()\n",
    "\n",
    "QUESTION_XML = \"\"\"<HTMLQuestion xmlns=\"http://mechanicalturk.amazonaws.com/AWSMechanicalTurkDataSchemas/2011-11-11/HTMLQuestion.xsd\">\n",
    "        <HTMLContent><![CDATA[{}]]></HTMLContent>\n",
    "        <FrameHeight>650</FrameHeight>\n",
    "        </HTMLQuestion>\"\"\"\n",
    "\n",
    "question_xml = QUESTION_XML.format(html_layout)\n",
    "\n",
    "TaskAttributes = {\n",
    "    'MaxAssignments': max_assignments,           \n",
    "    # How long the task will be available on MTurk     \n",
    "    'LifetimeInSeconds': lifetime,\n",
    "    # How long Workers have to complete each item \n",
    "    'AssignmentDurationInSeconds': duration,\n",
    "    # The reward you will offer Workers for each response\n",
    "    'Reward': reward,                     \n",
    "    'Title': title+'(Non-Expert)',\n",
    "    'Keywords': keywords,\n",
    "    'Description': description\n",
    "}\n",
    "\n",
    "results = []\n",
    "hit_type_id = ''\n",
    "for image in images:\n",
    "    response = client.create_hit(\n",
    "        **TaskAttributes,\n",
    "        Question=question_xml.replace('${content}',image).replace('${description}','')\n",
    "    )\n",
    "    hit_type_id = response['HIT']['HITTypeId']\n",
    "    results.append({\n",
    "        'image': images[image],\n",
    "        'hit_id': response['HIT']['HITId']\n",
    "    })\n",
    "    \n",
    "print(\"You can view the HITs here:\")\n",
    "print(mturk_environment['preview']+\"?groupId={}\".format(hit_type_id))"
   ]
  },
  {
   "cell_type": "markdown",
   "metadata": {},
   "source": [
    "The following cell prints the results of the non-expert HIT. The code is identical to retrieving the results of the expert task."
   ]
  },
  {
   "cell_type": "code",
   "execution_count": 64,
   "metadata": {},
   "outputs": [
    {
     "name": "stdout",
     "output_type": "stream",
     "text": [
      "[\n",
      "  {\n",
      "    \"image\": \"Kalina\",\n",
      "    \"hit_id\": \"3CZH926SJJ4HKA16H7MBV5SX4TK4EI\",\n",
      "    \"status\": \"Assignable\",\n",
      "    \"assignments_submitted_count\": 0,\n",
      "    \"answers\": [],\n",
      "    \"responses\": []\n",
      "  },\n",
      "  {\n",
      "    \"image\": \"Richers\",\n",
      "    \"hit_id\": \"3SZYX62S6NQE7EQW84RFUN6UI2B754\",\n",
      "    \"status\": \"Assignable\",\n",
      "    \"assignments_submitted_count\": 0,\n",
      "    \"answers\": [],\n",
      "    \"responses\": []\n",
      "  },\n",
      "  {\n",
      "    \"image\": \"Whiteford\",\n",
      "    \"hit_id\": \"3QGHA0EA1QQVM986HMQ4PP53LP6BWB\",\n",
      "    \"status\": \"Assignable\",\n",
      "    \"assignments_submitted_count\": 0,\n",
      "    \"answers\": [],\n",
      "    \"responses\": []\n",
      "  },\n",
      "  {\n",
      "    \"image\": \"Delaroche\",\n",
      "    \"hit_id\": \"3SBNLSTU71VSV1BV651HJJNL5CMDZA\",\n",
      "    \"status\": \"Assignable\",\n",
      "    \"assignments_submitted_count\": 0,\n",
      "    \"answers\": [],\n",
      "    \"responses\": []\n",
      "  },\n",
      "  {\n",
      "    \"image\": \"Michelangelo\",\n",
      "    \"hit_id\": \"3ZRKL6Z1FFTY69Z8D38HTBTFVP2GSI\",\n",
      "    \"status\": \"Assignable\",\n",
      "    \"assignments_submitted_count\": 0,\n",
      "    \"answers\": [],\n",
      "    \"responses\": []\n",
      "  }\n",
      "]\n"
     ]
    }
   ],
   "source": [
    "for item in results:\n",
    "    \n",
    "    # Get the status of the HIT\n",
    "    hit = client.get_hit(HITId=item['hit_id'])\n",
    "    item['status'] = hit['HIT']['HITStatus']\n",
    "    # Get a list of the Assignments that have been submitted\n",
    "    assignmentsList = client.list_assignments_for_hit(\n",
    "        HITId=item['hit_id'],\n",
    "        AssignmentStatuses=['Submitted', 'Approved'],\n",
    "        MaxResults=10\n",
    "    )\n",
    "    assignments = assignmentsList['Assignments']\n",
    "    item['assignments_submitted_count'] = len(assignments)\n",
    "    answers = []\n",
    "    responses = [] \n",
    "    for assignment in assignments:\n",
    "        # Retreive the attributes for each Assignment\n",
    "        worker_id = assignment['WorkerId']\n",
    "        assignment_id = assignment['AssignmentId']\n",
    "        # Retrieve the value submitted by the Worker from the XML\n",
    "        answer_dict = xmltodict.parse(assignment['Answer'])\n",
    "        # print(answer_dict['QuestionFormAnswers']['Answer'][0]['FreeText']) # text \n",
    "        # print(answer_dict['QuestionFormAnswers']['Answer'][1]['FreeText']) # rating \n",
    "        response = answer_dict['QuestionFormAnswers']['Answer'][0]['FreeText']\n",
    "        responses.append(response)\n",
    "        answer = answer_dict['QuestionFormAnswers']['Answer'][1]['FreeText']\n",
    "        answers.append(int(answer))\n",
    "        \n",
    "        # Approve the Assignment (if it hasn't been already)\n",
    "        if assignment['AssignmentStatus'] == 'Submitted':\n",
    "            client.approve_assignment(\n",
    "                AssignmentId=assignment_id,\n",
    "                OverrideRejection=False\n",
    "            )\n",
    "    \n",
    "    # Add the answers that have been retrieved for this item\n",
    "    item['answers'] = answers\n",
    "    item['responses'] = responses \n",
    "    if len(answers) > 0:\n",
    "        item['avg_answer'] = sum(answers)/len(answers)\n",
    "print(json.dumps(results,indent=2))"
   ]
  },
  {
   "cell_type": "markdown",
   "metadata": {},
   "source": [
    "The below cell implements and creates HITs for the expert task. "
   ]
  },
  {
   "cell_type": "code",
   "execution_count": 65,
   "metadata": {},
   "outputs": [
    {
     "name": "stdout",
     "output_type": "stream",
     "text": [
      "You can view the HITs here:\n",
      "https://workersandbox.mturk.com/mturk/preview?groupId=3CU3NNU95EA4JP31VS1ZZI0QBLULJ7\n"
     ]
    }
   ],
   "source": [
    "html_layout = open('./arteval.html', 'r').read()\n",
    "QUESTION_XML = \"\"\"<HTMLQuestion xmlns=\"http://mechanicalturk.amazonaws.com/AWSMechanicalTurkDataSchemas/2011-11-11/HTMLQuestion.xsd\">\n",
    "        <HTMLContent><![CDATA[{}]]></HTMLContent>\n",
    "        <FrameHeight>650</FrameHeight>\n",
    "        </HTMLQuestion>\"\"\"\n",
    "question_xml = QUESTION_XML.format(html_layout)\n",
    "\n",
    "TaskAttributes = {\n",
    "    'MaxAssignments': max_assignments,           \n",
    "    # How long the task will be available on MTurk     \n",
    "    'LifetimeInSeconds': lifetime,\n",
    "    # How long Workers have to complete each item \n",
    "    'AssignmentDurationInSeconds': duration,\n",
    "    # The reward you will offer Workers for each response\n",
    "    'Reward': reward,                     \n",
    "    'Title': title+'(Expert)',\n",
    "    'Keywords': keywords,\n",
    "    'Description': description\n",
    "}\n",
    "\n",
    "results = []\n",
    "hit_type_id = ''\n",
    "for image in images:\n",
    "    response = client.create_hit(\n",
    "        **TaskAttributes,\n",
    "        Question=question_xml.replace('${content}',image).replace('${description}',descriptions[image])\n",
    "    )\n",
    "    hit_type_id = response['HIT']['HITTypeId']\n",
    "    results.append({\n",
    "        'image': images[image],\n",
    "        'hit_id': response['HIT']['HITId']\n",
    "    })\n",
    "    \n",
    "print(\"You can view the HITs here:\")\n",
    "print(mturk_environment['preview']+\"?groupId={}\".format(hit_type_id))"
   ]
  },
  {
   "cell_type": "code",
   "execution_count": 66,
   "metadata": {},
   "outputs": [
    {
     "name": "stdout",
     "output_type": "stream",
     "text": [
      "[\n",
      "  {\n",
      "    \"image\": \"Kalina\",\n",
      "    \"hit_id\": \"36818Z1KWA3TC11Q1OF6PHA05EQA38\",\n",
      "    \"status\": \"Assignable\",\n",
      "    \"assignments_submitted_count\": 0,\n",
      "    \"answers\": [],\n",
      "    \"responses\": []\n",
      "  },\n",
      "  {\n",
      "    \"image\": \"Richers\",\n",
      "    \"hit_id\": \"3VMV5CHJ0F5ZL9CN23D73GP1X8GGT7\",\n",
      "    \"status\": \"Assignable\",\n",
      "    \"assignments_submitted_count\": 0,\n",
      "    \"answers\": [],\n",
      "    \"responses\": []\n",
      "  },\n",
      "  {\n",
      "    \"image\": \"Whiteford\",\n",
      "    \"hit_id\": \"3UV0D2KX2T99QO12CI6HDNDXGUZ4F0\",\n",
      "    \"status\": \"Assignable\",\n",
      "    \"assignments_submitted_count\": 0,\n",
      "    \"answers\": [],\n",
      "    \"responses\": []\n",
      "  },\n",
      "  {\n",
      "    \"image\": \"Delaroche\",\n",
      "    \"hit_id\": \"3KI0JD2ZV88AQIQADN1KMTKUEXM76K\",\n",
      "    \"status\": \"Assignable\",\n",
      "    \"assignments_submitted_count\": 0,\n",
      "    \"answers\": [],\n",
      "    \"responses\": []\n",
      "  },\n",
      "  {\n",
      "    \"image\": \"Michelangelo\",\n",
      "    \"hit_id\": \"3ICOHX7EOJ10LMJ5Y6Z9J22KNH4E0C\",\n",
      "    \"status\": \"Assignable\",\n",
      "    \"assignments_submitted_count\": 0,\n",
      "    \"answers\": [],\n",
      "    \"responses\": []\n",
      "  }\n",
      "]\n"
     ]
    }
   ],
   "source": [
    "for item in results:\n",
    "    \n",
    "    # Get the status of the HIT\n",
    "    hit = client.get_hit(HITId=item['hit_id'])\n",
    "    item['status'] = hit['HIT']['HITStatus']\n",
    "    # Get a list of the Assignments that have been submitted\n",
    "    assignmentsList = client.list_assignments_for_hit(\n",
    "        HITId=item['hit_id'],\n",
    "        AssignmentStatuses=['Submitted', 'Approved'],\n",
    "        MaxResults=10\n",
    "    )\n",
    "    assignments = assignmentsList['Assignments']\n",
    "    item['assignments_submitted_count'] = len(assignments)\n",
    "    answers = []\n",
    "    responses = [] \n",
    "    for assignment in assignments:\n",
    "        # Retreive the attributes for each Assignment\n",
    "        worker_id = assignment['WorkerId']\n",
    "        assignment_id = assignment['AssignmentId']\n",
    "        # Retrieve the value submitted by the Worker from the XML\n",
    "        answer_dict = xmltodict.parse(assignment['Answer'])\n",
    "        # print(answer_dict['QuestionFormAnswers']['Answer'][0]['FreeText']) # text \n",
    "        # print(answer_dict['QuestionFormAnswers']['Answer'][1]['FreeText']) # rating \n",
    "        response = answer_dict['QuestionFormAnswers']['Answer'][0]['FreeText']\n",
    "        responses.append(response)\n",
    "        answer = answer_dict['QuestionFormAnswers']['Answer'][1]['FreeText']\n",
    "        answers.append(int(answer))\n",
    "        \n",
    "        # Approve the Assignment (if it hasn't been already)\n",
    "        if assignment['AssignmentStatus'] == 'Submitted':\n",
    "            client.approve_assignment(\n",
    "                AssignmentId=assignment_id,\n",
    "                OverrideRejection=False\n",
    "            )\n",
    "    \n",
    "    # Add the answers that have been retrieved for this item\n",
    "    item['answers'] = answers\n",
    "    item['responses'] = responses \n",
    "    if len(answers) > 0:\n",
    "        item['avg_answer'] = sum(answers)/len(answers)\n",
    "print(json.dumps(results,indent=2))"
   ]
  }
 ],
 "metadata": {
  "kernelspec": {
   "display_name": "Python 3",
   "language": "python",
   "name": "python3"
  },
  "language_info": {
   "codemirror_mode": {
    "name": "ipython",
    "version": 3
   },
   "file_extension": ".py",
   "mimetype": "text/x-python",
   "name": "python",
   "nbconvert_exporter": "python",
   "pygments_lexer": "ipython3",
   "version": "3.8.5"
  },
  "metadata": {
   "interpreter": {
    "hash": "a5f6668854242f63eaad6694bcfe0c8656db53bd9aa963669c2cf3f023a0818b"
   }
  }
 },
 "nbformat": 4,
 "nbformat_minor": 2
}
